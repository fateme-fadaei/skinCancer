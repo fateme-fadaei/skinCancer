{
  "cells": [
    {
      "cell_type": "code",
      "execution_count": null,
      "metadata": {
        "execution": {
          "iopub.execute_input": "2023-10-18T17:20:49.554655Z",
          "iopub.status.busy": "2023-10-18T17:20:49.554031Z",
          "iopub.status.idle": "2023-10-18T17:20:49.561744Z",
          "shell.execute_reply": "2023-10-18T17:20:49.560952Z",
          "shell.execute_reply.started": "2023-10-18T17:20:49.554621Z"
        },
        "id": "WrNtE_9Fxc0P",
        "trusted": true
      },
      "outputs": [],
      "source": [
        "import random\n",
        "import os\n",
        "import glob\n",
        "import time\n",
        "\n",
        "import pandas as pd\n",
        "import numpy as np\n",
        "import matplotlib.pyplot as plt\n",
        "import seaborn as sns\n",
        "\n",
        "import tensorflow as tf\n",
        "import tensorflow_hub as hub\n",
        "from tensorflow.keras import layers, Sequential\n",
        "from tensorflow.keras.utils import plot_model\n",
        "\n",
        "from sklearn.model_selection import train_test_split\n",
        "from sklearn.metrics import classification_report, precision_recall_fscore_support\n",
        "from sklearn.metrics import accuracy_score, f1_score, matthews_corrcoef\n",
        "from sklearn.metrics import confusion_matrix, ConfusionMatrixDisplay\n",
        "from scikitplot.metrics import plot_roc"
      ]
    },
    {
      "cell_type": "code",
      "execution_count": null,
      "metadata": {
        "execution": {
          "iopub.execute_input": "2023-10-18T16:38:26.502715Z",
          "iopub.status.busy": "2023-10-18T16:38:26.502282Z",
          "iopub.status.idle": "2023-10-18T16:38:26.510202Z",
          "shell.execute_reply": "2023-10-18T16:38:26.50923Z",
          "shell.execute_reply.started": "2023-10-18T16:38:26.502691Z"
        },
        "id": "uii7Rpnuxc0R",
        "trusted": true
      },
      "outputs": [],
      "source": [
        "class CFG:\n",
        "    EPOCHS = 10\n",
        "    BATCH_SIZE = 32\n",
        "    SEED = 42\n",
        "    TF_SEED = 768\n",
        "    HEIGHT = 224\n",
        "    WIDTH = 224\n",
        "    CHANNELS = 3\n",
        "    IMAGE_SIZE = (224, 224, 3)"
      ]
    },
    {
      "cell_type": "code",
      "execution_count": null,
      "metadata": {
        "execution": {
          "iopub.execute_input": "2023-10-18T16:38:26.513053Z",
          "iopub.status.busy": "2023-10-18T16:38:26.512712Z",
          "iopub.status.idle": "2023-10-18T16:38:26.527178Z",
          "shell.execute_reply": "2023-10-18T16:38:26.526411Z",
          "shell.execute_reply.started": "2023-10-18T16:38:26.513027Z"
        },
        "id": "2S3DcD1_xc0T",
        "trusted": true
      },
      "outputs": [],
      "source": [
        "# Define paths\n",
        "DATASET_PATH = \"/kaggle/input/skin-cancer-malignant-vs-benign/\"\n",
        "TRAIN_PATH = '/kaggle/input/skin-cancer-malignant-vs-benign/train/'\n",
        "TEST_PATH = '/kaggle/input/skin-cancer-malignant-vs-benign/test/'"
      ]
    },
    {
      "cell_type": "code",
      "execution_count": null,
      "metadata": {
        "execution": {
          "iopub.execute_input": "2023-10-18T16:38:26.529163Z",
          "iopub.status.busy": "2023-10-18T16:38:26.52895Z",
          "iopub.status.idle": "2023-10-18T16:38:31.724355Z",
          "shell.execute_reply": "2023-10-18T16:38:31.723605Z",
          "shell.execute_reply.started": "2023-10-18T16:38:26.529143Z"
        },
        "id": "vjgVJx4Oxc0V",
        "trusted": true
      },
      "outputs": [],
      "source": [
        "# Generate a summary of the dataset\n",
        "print('DATASET SUMMARY')\n",
        "print('========================\\n')\n",
        "for dirpath, dirnames, filenames in os.walk(DATASET_PATH):\n",
        "    print(f\"There are {len(dirnames)} directories and {len(filenames)} images in {dirpath}\")\n",
        "print('\\n========================')"
      ]
    },
    {
      "cell_type": "markdown",
      "metadata": {
        "id": "HnVWixrNxc0W"
      },
      "source": [
        "<a id='1.1'></a>\n",
        "### <font color='#478bd6'>Get image paths with glob</font>"
      ]
    },
    {
      "cell_type": "code",
      "execution_count": null,
      "metadata": {
        "execution": {
          "iopub.execute_input": "2023-10-18T16:38:31.726628Z",
          "iopub.status.busy": "2023-10-18T16:38:31.726216Z",
          "iopub.status.idle": "2023-10-18T16:38:31.745678Z",
          "shell.execute_reply": "2023-10-18T16:38:31.744908Z",
          "shell.execute_reply.started": "2023-10-18T16:38:31.726601Z"
        },
        "id": "3vfTtmjexc0X",
        "trusted": true
      },
      "outputs": [],
      "source": [
        "%%time\n",
        "train_images = glob.glob(f\"{TRAIN_PATH}**/*.jpg\")\n",
        "test_images = glob.glob(f\"{TEST_PATH}**/*.jpg\")"
      ]
    },
    {
      "cell_type": "markdown",
      "metadata": {
        "id": "3Nc0m2Bvxc0Y"
      },
      "source": [
        "<a id='1.2'></a>\n",
        "### <font color='#478bd6'>View the number of images present in the dataset</font>"
      ]
    },
    {
      "cell_type": "code",
      "execution_count": null,
      "metadata": {
        "execution": {
          "iopub.execute_input": "2023-10-18T16:38:31.747595Z",
          "iopub.status.busy": "2023-10-18T16:38:31.747144Z",
          "iopub.status.idle": "2023-10-18T16:38:31.755512Z",
          "shell.execute_reply": "2023-10-18T16:38:31.7548Z",
          "shell.execute_reply.started": "2023-10-18T16:38:31.74757Z"
        },
        "id": "1IDu3sYkxc0Z",
        "trusted": true
      },
      "outputs": [],
      "source": [
        "# Get train & test set sizes\n",
        "train_size = len(train_images)\n",
        "test_size = len(test_images)\n",
        "\n",
        "# Get dataset size\n",
        "total = train_size + test_size\n",
        "\n",
        "# View samples counts\n",
        "print(f'train samples count:\\t\\t{train_size}')\n",
        "print(f'test samples count:\\t\\t{test_size}')\n",
        "print('=======================================')\n",
        "print(f'TOTAL:\\t\\t\\t\\t{total}')"
      ]
    },
    {
      "cell_type": "markdown",
      "metadata": {
        "id": "HkhoDDMTxc0a"
      },
      "source": [
        "<a id='1.3'></a>\n",
        "### <font color='#478bd6'>Create Pandas DataFrames for paths and labels</font>"
      ]
    },
    {
      "cell_type": "code",
      "execution_count": null,
      "metadata": {
        "execution": {
          "iopub.execute_input": "2023-10-18T16:38:31.756743Z",
          "iopub.status.busy": "2023-10-18T16:38:31.756533Z",
          "iopub.status.idle": "2023-10-18T16:38:31.766253Z",
          "shell.execute_reply": "2023-10-18T16:38:31.765623Z",
          "shell.execute_reply.started": "2023-10-18T16:38:31.756724Z"
        },
        "id": "DWW_4_Taxc0b",
        "trusted": true
      },
      "outputs": [],
      "source": [
        "def generate_labels(image_paths):\n",
        "    return [_.split('/')[-2:][0] for _ in image_paths]\n",
        "\n",
        "\n",
        "def build_df(image_paths, labels):\n",
        "    # Create dataframe\n",
        "    df = pd.DataFrame({\n",
        "        'image_path': image_paths,\n",
        "        'label': generate_labels(labels)\n",
        "    })\n",
        "\n",
        "    # Generate label encodings\n",
        "    df['label_encoded'] = df.apply(lambda row: 0 if row.label == 'malignant' else 1, axis=1)\n",
        "\n",
        "    # Shuffle and return df\n",
        "    return df.sample(frac=1, random_state=CFG.SEED).reset_index(drop=True)"
      ]
    },
    {
      "cell_type": "code",
      "execution_count": null,
      "metadata": {
        "execution": {
          "iopub.execute_input": "2023-10-18T16:38:31.767398Z",
          "iopub.status.busy": "2023-10-18T16:38:31.767102Z",
          "iopub.status.idle": "2023-10-18T16:38:31.831968Z",
          "shell.execute_reply": "2023-10-18T16:38:31.831345Z",
          "shell.execute_reply.started": "2023-10-18T16:38:31.767375Z"
        },
        "id": "FEah4AjZxc0b",
        "trusted": true
      },
      "outputs": [],
      "source": [
        "# Build the DataFrames\n",
        "train_df = build_df(train_images, generate_labels(train_images))\n",
        "test_df = build_df(test_images, generate_labels(test_images))"
      ]
    },
    {
      "cell_type": "code",
      "execution_count": null,
      "metadata": {
        "execution": {
          "iopub.execute_input": "2023-10-18T16:38:31.833853Z",
          "iopub.status.busy": "2023-10-18T16:38:31.833618Z",
          "iopub.status.idle": "2023-10-18T16:38:31.847307Z",
          "shell.execute_reply": "2023-10-18T16:38:31.846684Z",
          "shell.execute_reply.started": "2023-10-18T16:38:31.833831Z"
        },
        "id": "yFNss04Vxc0c",
        "trusted": true
      },
      "outputs": [],
      "source": [
        "# View first 5 samples in the training set\n",
        "train_df.head(5)"
      ]
    },
    {
      "cell_type": "markdown",
      "metadata": {
        "id": "yM60psb-xc0c"
      },
      "source": [
        "<a id='1.4'></a>\n",
        "### <font color='#478bd6'>Load & View Random Sample Image</font>"
      ]
    },
    {
      "cell_type": "code",
      "execution_count": null,
      "metadata": {
        "execution": {
          "iopub.execute_input": "2023-10-18T16:38:31.850235Z",
          "iopub.status.busy": "2023-10-18T16:38:31.849955Z",
          "iopub.status.idle": "2023-10-18T16:38:31.856224Z",
          "shell.execute_reply": "2023-10-18T16:38:31.855534Z",
          "shell.execute_reply.started": "2023-10-18T16:38:31.850214Z"
        },
        "id": "y-2qv-E-xc0d",
        "trusted": true
      },
      "outputs": [],
      "source": [
        "def _load(image_path):\n",
        "    # Read and decode an image file to a uint8 tensor\n",
        "    image = tf.io.read_file(image_path)\n",
        "    image = tf.io.decode_jpeg(image, channels=3)\n",
        "\n",
        "    # Resize image\n",
        "    image = tf.image.resize(image, [CFG.HEIGHT, CFG.WIDTH],\n",
        "                            method=tf.image.ResizeMethod.LANCZOS3)\n",
        "\n",
        "    # Convert image dtype to float32 and NORMALIZE!!!\n",
        "    image = tf.cast(image, tf.float32)/255.\n",
        "\n",
        "    # Return image\n",
        "    return image\n",
        "\n",
        "def view_sample(image, label, color_map='rgb', fig_size=(8, 10)):\n",
        "    plt.figure(figsize=fig_size)\n",
        "\n",
        "    if color_map=='rgb':\n",
        "        plt.imshow(image)\n",
        "    else:\n",
        "        plt.imshow(tf.image.rgb_to_grayscale(image), cmap=color_map)\n",
        "\n",
        "    plt.title(f'Label: {label}', fontsize=16)\n",
        "    return"
      ]
    },
    {
      "cell_type": "code",
      "execution_count": null,
      "metadata": {
        "execution": {
          "iopub.execute_input": "2023-10-18T16:38:31.857394Z",
          "iopub.status.busy": "2023-10-18T16:38:31.857188Z",
          "iopub.status.idle": "2023-10-18T16:38:36.127129Z",
          "shell.execute_reply": "2023-10-18T16:38:36.126265Z",
          "shell.execute_reply.started": "2023-10-18T16:38:31.857375Z"
        },
        "id": "K96MyST4xc0e",
        "trusted": true
      },
      "outputs": [],
      "source": [
        "# Select random sample from train_df\n",
        "idx = random.sample(train_df.index.to_list(), 1)[0]\n",
        "\n",
        "# Load the random sample and label\n",
        "sample_image, sample_label = _load(train_df.image_path[idx]), train_df.label[idx]\n",
        "\n",
        "# View the random sample\n",
        "view_sample(sample_image, sample_label, color_map='inferno')"
      ]
    },
    {
      "cell_type": "markdown",
      "metadata": {
        "id": "v1i4n9Hxxc0e"
      },
      "source": [
        "<a id='1.5'></a>\n",
        "### <font color='#478bd6'>View multiple random samples</font>"
      ]
    },
    {
      "cell_type": "code",
      "execution_count": null,
      "metadata": {
        "execution": {
          "iopub.execute_input": "2023-10-18T16:38:36.128276Z",
          "iopub.status.busy": "2023-10-18T16:38:36.127967Z",
          "iopub.status.idle": "2023-10-18T16:38:39.235982Z",
          "shell.execute_reply": "2023-10-18T16:38:39.235163Z",
          "shell.execute_reply.started": "2023-10-18T16:38:36.128242Z"
        },
        "id": "4QcgcHQMxc0f",
        "trusted": true
      },
      "outputs": [],
      "source": [
        "def view_mulitiple_samples(df, sample_loader, count=10, color_map='rgb', fig_size=(14, 10)):\n",
        "    rows = count//5\n",
        "    if count%5 > 0:\n",
        "        rows +=1\n",
        "\n",
        "    idx = random.sample(df.index.to_list(), count)\n",
        "    fig = plt.figure(figsize=fig_size)\n",
        "\n",
        "    for column, _ in enumerate(idx):\n",
        "        plt.subplot(rows, 5, column+1)\n",
        "        plt.title(f'Label: {df.label[_]}')\n",
        "\n",
        "        if color_map=='rgb':\n",
        "            plt.imshow(sample_loader(df.image_path[_]))\n",
        "        else:\n",
        "            plt.imshow(tf.image.rgb_to_grayscale(sample_loader(df.image_path[_])), cmap=color_map)\n",
        "\n",
        "    return\n",
        "\n",
        "view_mulitiple_samples(train_df, _load,\n",
        "                       count=25, color_map='inferno',\n",
        "                       fig_size=(20, 24))"
      ]
    },
    {
      "cell_type": "markdown",
      "metadata": {
        "id": "dMpZVK-Uxc0f"
      },
      "source": [
        "<a id='1.6'></a>\n",
        "### <font color='#478bd6'>View Train Labels Distribution</font>"
      ]
    },
    {
      "cell_type": "code",
      "execution_count": null,
      "metadata": {
        "execution": {
          "iopub.execute_input": "2023-10-18T17:08:22.170151Z",
          "iopub.status.busy": "2023-10-18T17:08:22.169805Z",
          "iopub.status.idle": "2023-10-18T17:08:22.385062Z",
          "shell.execute_reply": "2023-10-18T17:08:22.384313Z",
          "shell.execute_reply.started": "2023-10-18T17:08:22.170123Z"
        },
        "id": "AnvNjwobxc0g",
        "trusted": true
      },
      "outputs": [],
      "source": [
        "fig, (ax1, ax2) = plt.subplots(2, figsize=(14, 10))\n",
        "\n",
        "# Set the spacing between subplots\n",
        "fig.tight_layout(pad=6.0)\n",
        "\n",
        "# Plot Train Labels Distribution\n",
        "ax1.set_title('Train Labels Distribution', fontsize=20)\n",
        "train_distribution = train_df['label'].value_counts().sort_values()\n",
        "sns.barplot(x=train_distribution.values,\n",
        "            y=list(train_distribution.keys()),\n",
        "            orient=\"h\",\n",
        "            ax=ax1)\n",
        "\n",
        "# Plot Test Labels Distribution\n",
        "ax2.set_title('Test Labels Distribution', fontsize=20)\n",
        "test_distribution = test_df['label'].value_counts().sort_values()\n",
        "sns.barplot(x=test_distribution.values,\n",
        "            y=list(test_distribution.keys()),\n",
        "            orient=\"h\",\n",
        "            ax=ax2);\n",
        "\n",
        "sns.despine();"
      ]
    },
    {
      "cell_type": "markdown",
      "metadata": {
        "id": "EdJxJnG5xc0i"
      },
      "source": [
        "<a id='2.1'></a>\n",
        "### <font color='#478bd6'>Create Train & Validation Splits</font>"
      ]
    },
    {
      "cell_type": "code",
      "execution_count": null,
      "metadata": {
        "execution": {
          "iopub.execute_input": "2023-10-18T16:38:39.455346Z",
          "iopub.status.busy": "2023-10-18T16:38:39.454912Z",
          "iopub.status.idle": "2023-10-18T16:38:39.461755Z",
          "shell.execute_reply": "2023-10-18T16:38:39.460948Z",
          "shell.execute_reply.started": "2023-10-18T16:38:39.455318Z"
        },
        "id": "r5xGWydPxc0i",
        "trusted": true
      },
      "outputs": [],
      "source": [
        "# Create Train/Val split with Training Set\n",
        "train_split_idx, val_split_idx, _, _ = train_test_split(train_df.index,\n",
        "                                                        train_df.label_encoded,\n",
        "                                                        test_size=0.15,\n",
        "                                                        stratify=train_df.label_encoded,\n",
        "                                                        random_state=CFG.SEED)"
      ]
    },
    {
      "cell_type": "code",
      "execution_count": null,
      "metadata": {
        "execution": {
          "iopub.execute_input": "2023-10-18T16:38:39.463228Z",
          "iopub.status.busy": "2023-10-18T16:38:39.462958Z",
          "iopub.status.idle": "2023-10-18T16:38:39.474072Z",
          "shell.execute_reply": "2023-10-18T16:38:39.473443Z",
          "shell.execute_reply.started": "2023-10-18T16:38:39.463205Z"
        },
        "id": "pqgQk3R9xc0i",
        "trusted": true
      },
      "outputs": [],
      "source": [
        "# Get new training and validation data\n",
        "train_new_df = train_df.iloc[train_split_idx].reset_index(drop=True)\n",
        "val_df = train_df.iloc[val_split_idx].reset_index(drop=True)\n",
        "\n",
        "# View shapes\n",
        "train_new_df.shape, val_df.shape"
      ]
    },
    {
      "cell_type": "markdown",
      "metadata": {
        "id": "7vSAHrvgxc0j"
      },
      "source": [
        "<a id='2.2'></a>\n",
        "### <font color='#478bd6'>View New Train & Validation Labels Distribution</font>"
      ]
    },
    {
      "cell_type": "code",
      "execution_count": null,
      "metadata": {
        "execution": {
          "iopub.execute_input": "2023-10-18T17:08:47.592397Z",
          "iopub.status.busy": "2023-10-18T17:08:47.591749Z",
          "iopub.status.idle": "2023-10-18T17:08:47.784969Z",
          "shell.execute_reply": "2023-10-18T17:08:47.784254Z",
          "shell.execute_reply.started": "2023-10-18T17:08:47.592358Z"
        },
        "id": "3yn98C4gxc0j",
        "trusted": true
      },
      "outputs": [],
      "source": [
        "fig, (ax1, ax2) = plt.subplots(2, figsize=(14, 10))\n",
        "\n",
        "# Set the spacing between subplots\n",
        "fig.tight_layout(pad=6.0)\n",
        "\n",
        "# Plot New Train Labels Distribution\n",
        "ax1.set_title('New Train Labels Distribution', fontsize=20)\n",
        "train_new_distribution = train_new_df['label'].value_counts().sort_values()\n",
        "sns.barplot(x=train_new_distribution.values,\n",
        "            y=list(train_new_distribution.keys()),\n",
        "            orient=\"h\",\n",
        "            ax=ax1)\n",
        "\n",
        "# Plot Validation Labels Distribution\n",
        "ax2.set_title('Validation Labels Distribution', fontsize=20)\n",
        "val_distribution = val_df['label'].value_counts().sort_values()\n",
        "sns.barplot(x=val_distribution.values,\n",
        "            y=list(val_distribution.keys()),\n",
        "            orient=\"h\",\n",
        "            ax=ax2);\n",
        "\n",
        "sns.despine();"
      ]
    },
    {
      "cell_type": "markdown",
      "metadata": {
        "id": "fHHUN-iwxc0k"
      },
      "source": [
        "<a id='2.3'></a>\n",
        "### <font color='#478bd6'>Create an Image Data Augmentation Layer</font>"
      ]
    },
    {
      "cell_type": "code",
      "execution_count": null,
      "metadata": {
        "execution": {
          "iopub.execute_input": "2023-10-18T16:38:39.701288Z",
          "iopub.status.busy": "2023-10-18T16:38:39.700993Z",
          "iopub.status.idle": "2023-10-18T16:38:39.75089Z",
          "shell.execute_reply": "2023-10-18T16:38:39.750226Z",
          "shell.execute_reply.started": "2023-10-18T16:38:39.701247Z"
        },
        "id": "h4K0Fox-xc0k",
        "trusted": true
      },
      "outputs": [],
      "source": [
        "# Build augmentation layer\n",
        "augmentation_layer = Sequential([\n",
        "    layers.RandomFlip(mode='horizontal_and_vertical', seed=CFG.TF_SEED),\n",
        "    layers.RandomZoom(height_factor=(-0.1, 0.1), width_factor=(-0.1, 0.1), seed=CFG.TF_SEED),\n",
        "], name='augmentation_layer')"
      ]
    },
    {
      "cell_type": "code",
      "execution_count": null,
      "metadata": {
        "execution": {
          "iopub.execute_input": "2023-10-18T16:38:39.75258Z",
          "iopub.status.busy": "2023-10-18T16:38:39.75217Z",
          "iopub.status.idle": "2023-10-18T16:38:40.403374Z",
          "shell.execute_reply": "2023-10-18T16:38:40.40273Z",
          "shell.execute_reply.started": "2023-10-18T16:38:39.752552Z"
        },
        "id": "krfBbQ2_xc0n",
        "trusted": true
      },
      "outputs": [],
      "source": [
        "image = tf.image.rgb_to_grayscale(sample_image)\n",
        "\n",
        "fig, (ax1, ax2) = plt.subplots(1, 2, figsize=(14, 10))\n",
        "\n",
        "# Set the spacing between subplots\n",
        "fig.tight_layout(pad=6.0)\n",
        "\n",
        "# View Original Image\n",
        "ax1.set_title('Original Image', fontsize=20)\n",
        "ax1.imshow(image, cmap='inferno');\n",
        "\n",
        "# View Augmented Image\n",
        "ax2.set_title('Augmented Image', fontsize=20)\n",
        "ax2.imshow(augmentation_layer(image), cmap='inferno');"
      ]
    },
    {
      "cell_type": "markdown",
      "metadata": {
        "id": "4NJxw1PTxc0n"
      },
      "source": [
        "<a id='2.4'></a>\n",
        "### <font color='#478bd6'>Create Input Data Pipeline w. tf.data API</font>"
      ]
    },
    {
      "cell_type": "code",
      "execution_count": null,
      "metadata": {
        "execution": {
          "iopub.execute_input": "2023-10-18T16:38:40.405083Z",
          "iopub.status.busy": "2023-10-18T16:38:40.404469Z",
          "iopub.status.idle": "2023-10-18T16:38:40.412271Z",
          "shell.execute_reply": "2023-10-18T16:38:40.411543Z",
          "shell.execute_reply.started": "2023-10-18T16:38:40.405057Z"
        },
        "id": "4-5BOBHAxc0o",
        "trusted": true
      },
      "outputs": [],
      "source": [
        "def encode_labels(labels, encode_depth=2):\n",
        "    return tf.one_hot(labels, depth=encode_depth).numpy()\n",
        "\n",
        "def create_pipeline(df, load_function, augment=False, batch_size=32, shuffle=False, cache=None, prefetch=False):\n",
        "\n",
        "    image_paths = df.image_path\n",
        "    image_labels = encode_labels(df.label_encoded)\n",
        "    AUTOTUNE = tf.data.AUTOTUNE\n",
        "\n",
        "\n",
        "    ds = tf.data.Dataset.from_tensor_slices((image_paths, image_labels))\n",
        "\n",
        "    # Map augmentation layer and load function to dataset inputs if augment is True\n",
        "    # Else map only the load function\n",
        "    if augment:\n",
        "        ds = ds.map(lambda x, y: (augmentation_layer(load_function(x)), y), num_parallel_calls=AUTOTUNE)\n",
        "    else:\n",
        "        ds = ds.map(lambda x, y: (load_function(x), y), num_parallel_calls=AUTOTUNE)\n",
        "\n",
        "\n",
        "    if shuffle:\n",
        "        ds = ds.shuffle(buffer_size=1000)\n",
        "\n",
        "    ds = ds.batch(batch_size)\n",
        "\n",
        "    if cache != None:\n",
        "        ds = ds.cache(cache)\n",
        "\n",
        "\n",
        "    if prefetch:\n",
        "        ds = ds.prefetch(buffer_size=AUTOTUNE)\n",
        "\n",
        "    # Return the dataset\n",
        "    return ds"
      ]
    },
    {
      "cell_type": "code",
      "execution_count": null,
      "metadata": {
        "execution": {
          "iopub.execute_input": "2023-10-18T16:38:40.414203Z",
          "iopub.status.busy": "2023-10-18T16:38:40.413402Z",
          "iopub.status.idle": "2023-10-18T16:38:40.763321Z",
          "shell.execute_reply": "2023-10-18T16:38:40.76267Z",
          "shell.execute_reply.started": "2023-10-18T16:38:40.414177Z"
        },
        "id": "TMzE54oyxc0p",
        "trusted": true
      },
      "outputs": [],
      "source": [
        "# Generate Train Input Pipeline\n",
        "train_ds = create_pipeline(train_new_df, _load, augment=True,\n",
        "                           batch_size=CFG.BATCH_SIZE,\n",
        "                           shuffle=False, prefetch=True)\n",
        "\n",
        "# Generate Validation Input Pipeline\n",
        "val_ds = create_pipeline(val_df, _load,\n",
        "                         batch_size=CFG.BATCH_SIZE,\n",
        "                         shuffle=False, prefetch=False)\n",
        "\n",
        "# Generate Test Input Pipeline\n",
        "test_ds = create_pipeline(test_df, _load,\n",
        "                          batch_size=CFG.BATCH_SIZE,\n",
        "                          shuffle=False, prefetch=False)"
      ]
    },
    {
      "cell_type": "code",
      "execution_count": null,
      "metadata": {
        "execution": {
          "iopub.execute_input": "2023-10-18T16:38:40.764587Z",
          "iopub.status.busy": "2023-10-18T16:38:40.76432Z",
          "iopub.status.idle": "2023-10-18T16:38:40.769422Z",
          "shell.execute_reply": "2023-10-18T16:38:40.768693Z",
          "shell.execute_reply.started": "2023-10-18T16:38:40.764562Z"
        },
        "id": "MTC-_LPkxc0p",
        "trusted": true
      },
      "outputs": [],
      "source": [
        "# View string representation of datasets\n",
        "print('========================================')\n",
        "print('Train Input Data Pipeline:\\n\\n', train_ds)\n",
        "print('========================================')\n",
        "print('Validation Input Data Pipeline:\\n\\n', val_ds)\n",
        "print('========================================')\n",
        "print('Test Input Data Pipeline:\\n\\n', test_ds)\n",
        "print('========================================')"
      ]
    },
    {
      "cell_type": "markdown",
      "metadata": {
        "id": "PU9Qua1pxc0q"
      },
      "source": [
        "<a id='3.2'></a>\n",
        "### <font color='#478bd6'>Define CNN Model</font>"
      ]
    },
    {
      "cell_type": "code",
      "execution_count": null,
      "metadata": {
        "execution": {
          "iopub.execute_input": "2023-10-18T16:38:40.770918Z",
          "iopub.status.busy": "2023-10-18T16:38:40.770432Z",
          "iopub.status.idle": "2023-10-18T16:38:40.783994Z",
          "shell.execute_reply": "2023-10-18T16:38:40.783108Z",
          "shell.execute_reply.started": "2023-10-18T16:38:40.770893Z"
        },
        "id": "xh57bt6exc0r",
        "trusted": true
      },
      "outputs": [],
      "source": [
        "def cnn_model():\n",
        "\n",
        "    initializer = tf.keras.initializers.GlorotNormal()\n",
        "\n",
        "    cnn_sequential = Sequential([\n",
        "        layers.Input(shape=CFG.IMAGE_SIZE, dtype=tf.float32, name='input_image'),\n",
        "\n",
        "        layers.Conv2D(16, kernel_size=3, activation='relu', kernel_initializer=initializer),\n",
        "        layers.Conv2D(16, kernel_size=3, activation='relu', kernel_initializer=initializer),\n",
        "        layers.MaxPool2D(pool_size=2, padding='valid'),\n",
        "\n",
        "        layers.Conv2D(8, kernel_size=3, activation='relu', kernel_initializer=initializer),\n",
        "        layers.Conv2D(8, kernel_size=3, activation='relu', kernel_initializer=initializer),\n",
        "        layers.MaxPool2D(pool_size=2),\n",
        "\n",
        "        layers.Flatten(),\n",
        "        layers.Dropout(0.2),\n",
        "        layers.Dense(128, activation='relu', kernel_initializer=initializer),\n",
        "        layers.Dense(2, activation='sigmoid', kernel_initializer=initializer)\n",
        "    ], name='cnn_sequential_model')\n",
        "\n",
        "    return cnn_sequential"
      ]
    },
    {
      "cell_type": "code",
      "execution_count": null,
      "metadata": {
        "execution": {
          "iopub.execute_input": "2023-10-18T16:38:40.785193Z",
          "iopub.status.busy": "2023-10-18T16:38:40.784954Z",
          "iopub.status.idle": "2023-10-18T16:38:40.855556Z",
          "shell.execute_reply": "2023-10-18T16:38:40.854858Z",
          "shell.execute_reply.started": "2023-10-18T16:38:40.785171Z"
        },
        "id": "ca7_PmVzxc0t",
        "trusted": true
      },
      "outputs": [],
      "source": [
        "# Generate Model\n",
        "model_cnn = cnn_model()\n",
        "\n",
        "# Generate Summary of the Model\n",
        "model_cnn.summary()"
      ]
    },
    {
      "cell_type": "code",
      "execution_count": null,
      "metadata": {
        "execution": {
          "iopub.execute_input": "2023-10-18T16:38:40.856697Z",
          "iopub.status.busy": "2023-10-18T16:38:40.856472Z",
          "iopub.status.idle": "2023-10-18T16:38:41.831003Z",
          "shell.execute_reply": "2023-10-18T16:38:41.83015Z",
          "shell.execute_reply.started": "2023-10-18T16:38:40.856677Z"
        },
        "id": "Z-BejLFIxc0t",
        "trusted": true
      },
      "outputs": [],
      "source": [
        "# Explore model visually\n",
        "plot_model(\n",
        "    model_cnn, dpi=60,\n",
        "    show_shapes=True\n",
        ")"
      ]
    },
    {
      "cell_type": "code",
      "execution_count": null,
      "metadata": {
        "execution": {
          "iopub.execute_input": "2023-10-18T16:38:41.83272Z",
          "iopub.status.busy": "2023-10-18T16:38:41.83244Z",
          "iopub.status.idle": "2023-10-18T16:38:41.83885Z",
          "shell.execute_reply": "2023-10-18T16:38:41.838244Z",
          "shell.execute_reply.started": "2023-10-18T16:38:41.832691Z"
        },
        "id": "vhh67FP1xc0u",
        "trusted": true
      },
      "outputs": [],
      "source": [
        "def train_model(model, num_epochs, callbacks_list, tf_train_data,\n",
        "                tf_valid_data=None, shuffling=False):\n",
        "\n",
        "    model_history = {}\n",
        "\n",
        "    if tf_valid_data != None:\n",
        "        model_history = model.fit(tf_train_data,\n",
        "                                  epochs=num_epochs,\n",
        "                                  validation_data=tf_valid_data,\n",
        "                                  validation_steps=int(len(tf_valid_data)),\n",
        "                                  callbacks=callbacks_list,\n",
        "                                  shuffle=shuffling)\n",
        "\n",
        "    if tf_valid_data == None:\n",
        "        model_history = model.fit(tf_train_data,\n",
        "                                  epochs=num_epochs,\n",
        "                                  callbacks=callbacks_list,\n",
        "                                  shuffle=shuffling)\n",
        "    return model_history"
      ]
    },
    {
      "cell_type": "code",
      "execution_count": null,
      "metadata": {
        "execution": {
          "iopub.execute_input": "2023-10-18T16:38:41.840121Z",
          "iopub.status.busy": "2023-10-18T16:38:41.839757Z",
          "iopub.status.idle": "2023-10-18T16:38:41.856461Z",
          "shell.execute_reply": "2023-10-18T16:38:41.855772Z",
          "shell.execute_reply.started": "2023-10-18T16:38:41.840098Z"
        },
        "id": "7lUYpE4Mxc0v",
        "trusted": true
      },
      "outputs": [],
      "source": [
        "# Define Early Stopping Callback\n",
        "early_stopping_callback = tf.keras.callbacks.EarlyStopping(\n",
        "    monitor='val_loss',\n",
        "    patience=3,\n",
        "    restore_best_weights=True)\n",
        "\n",
        "# Define Reduce Learning Rate Callback\n",
        "reduce_lr_callback = tf.keras.callbacks.ReduceLROnPlateau(\n",
        "    monitor='val_loss',\n",
        "    patience=2,\n",
        "    factor=0.1,\n",
        "    verbose=1)\n",
        "\n",
        "# Define Callbacks and Metrics lists\n",
        "CALLBACKS = [early_stopping_callback, reduce_lr_callback]\n",
        "METRICS = ['accuracy']"
      ]
    },
    {
      "cell_type": "code",
      "execution_count": null,
      "metadata": {
        "execution": {
          "iopub.execute_input": "2023-10-18T16:38:41.857792Z",
          "iopub.status.busy": "2023-10-18T16:38:41.857527Z",
          "iopub.status.idle": "2023-10-18T16:41:27.078418Z",
          "shell.execute_reply": "2023-10-18T16:41:27.077653Z",
          "shell.execute_reply.started": "2023-10-18T16:38:41.857768Z"
        },
        "id": "IHW3sbptxc0w",
        "trusted": true
      },
      "outputs": [],
      "source": [
        "tf.random.set_seed(CFG.SEED)\n",
        "\n",
        "# Compile the model\n",
        "model_cnn.compile(\n",
        "    loss=tf.keras.losses.BinaryCrossentropy(),\n",
        "    optimizer=tf.keras.optimizers.Adam(learning_rate=0.001),\n",
        "    metrics=METRICS\n",
        ")\n",
        "\n",
        "# Train the model\n",
        "print(f'Training {model_cnn.name}.')\n",
        "print(f'Train on {len(train_new_df)} samples, validate on {len(val_df)} samples.')\n",
        "print('----------------------------------')\n",
        "\n",
        "cnn_history = train_model(\n",
        "    model_cnn, CFG.EPOCHS, CALLBACKS,\n",
        "    train_ds, val_ds,\n",
        "    shuffling=False\n",
        ")"
      ]
    },
    {
      "cell_type": "code",
      "execution_count": null,
      "metadata": {
        "execution": {
          "iopub.execute_input": "2023-10-18T16:41:27.084798Z",
          "iopub.status.busy": "2023-10-18T16:41:27.08455Z",
          "iopub.status.idle": "2023-10-18T16:41:31.162775Z",
          "shell.execute_reply": "2023-10-18T16:41:31.162006Z",
          "shell.execute_reply.started": "2023-10-18T16:41:27.084775Z"
        },
        "id": "Jw9eYDofxc0w",
        "trusted": true
      },
      "outputs": [],
      "source": [
        "cnn_evaluation = model_cnn.evaluate(test_ds)"
      ]
    },
    {
      "cell_type": "code",
      "execution_count": null,
      "metadata": {
        "execution": {
          "iopub.execute_input": "2023-10-18T16:41:31.164137Z",
          "iopub.status.busy": "2023-10-18T16:41:31.163893Z",
          "iopub.status.idle": "2023-10-18T16:41:32.681202Z",
          "shell.execute_reply": "2023-10-18T16:41:32.680518Z",
          "shell.execute_reply.started": "2023-10-18T16:41:31.164115Z"
        },
        "id": "pKad-4MQxc0x",
        "trusted": true
      },
      "outputs": [],
      "source": [
        "cnn_test_probabilities = model_cnn.predict(test_ds, verbose=1)\n",
        "cnn_test_predictions = tf.argmax(cnn_test_probabilities, axis=1)"
      ]
    },
    {
      "cell_type": "code",
      "execution_count": null,
      "metadata": {
        "execution": {
          "iopub.execute_input": "2023-10-18T16:41:32.683469Z",
          "iopub.status.busy": "2023-10-18T16:41:32.683234Z",
          "iopub.status.idle": "2023-10-18T16:41:32.687083Z",
          "shell.execute_reply": "2023-10-18T16:41:32.686539Z",
          "shell.execute_reply.started": "2023-10-18T16:41:32.683448Z"
        },
        "id": "MQCCaR9Pxc0y",
        "trusted": true
      },
      "outputs": [],
      "source": [
        "def get_tfhub_model(model_link, model_name, model_trainable=False):\n",
        "    return hub.KerasLayer(model_link,\n",
        "                          trainable=model_trainable,\n",
        "                          name=model_name)"
      ]
    },
    {
      "cell_type": "markdown",
      "metadata": {
        "id": "Txc6B1UMxc0y"
      },
      "source": [
        "<a id=\"4.1\"></a>\n",
        "### <font color='#478bd6'>Get EfficientNet From TensorFlow Hub</font>"
      ]
    },
    {
      "cell_type": "code",
      "execution_count": null,
      "metadata": {
        "execution": {
          "iopub.execute_input": "2023-10-18T16:41:32.688659Z",
          "iopub.status.busy": "2023-10-18T16:41:32.687882Z",
          "iopub.status.idle": "2023-10-18T16:41:37.755677Z",
          "shell.execute_reply": "2023-10-18T16:41:37.754931Z",
          "shell.execute_reply.started": "2023-10-18T16:41:32.688634Z"
        },
        "id": "KPNdOiyQxc0y",
        "trusted": true
      },
      "outputs": [],
      "source": [
        "# Get EfficientNet V2 B0 here\n",
        "efficientnet_v2_url = 'https://tfhub.dev/google/imagenet/efficientnet_v2_imagenet21k_b0/feature_vector/2'\n",
        "model_name = 'efficientnet_v2_b0'\n",
        "\n",
        "# Set trainable to False for inference-only\n",
        "set_trainable=False\n",
        "\n",
        "efficientnet_v2_b0 = get_tfhub_model(efficientnet_v2_url,\n",
        "                                     model_name,\n",
        "                                     model_trainable=set_trainable)"
      ]
    },
    {
      "cell_type": "markdown",
      "metadata": {
        "id": "DlDVqfahxc0y"
      },
      "source": [
        "<a id=\"4.2\"></a>\n",
        "### <font color='#478bd6'>Define EfficientNet Model</font>"
      ]
    },
    {
      "cell_type": "code",
      "execution_count": null,
      "metadata": {
        "execution": {
          "iopub.execute_input": "2023-10-18T16:41:37.756952Z",
          "iopub.status.busy": "2023-10-18T16:41:37.756717Z",
          "iopub.status.idle": "2023-10-18T16:41:37.762214Z",
          "shell.execute_reply": "2023-10-18T16:41:37.761628Z",
          "shell.execute_reply.started": "2023-10-18T16:41:37.75693Z"
        },
        "id": "VNW4R6vcxc0z",
        "trusted": true
      },
      "outputs": [],
      "source": [
        "def efficientnet_v2_model():\n",
        "\n",
        "    initializer = tf.keras.initializers.GlorotNormal()\n",
        "\n",
        "    efficientnet_v2_sequential = Sequential([\n",
        "        layers.Input(shape=CFG.IMAGE_SIZE, dtype=tf.float32, name='input_image'),\n",
        "        efficientnet_v2_b0,\n",
        "        layers.Dropout(0.2),\n",
        "        layers.Dense(128, activation='relu', kernel_initializer=initializer),\n",
        "        layers.Dense(2, dtype=tf.float32, activation='sigmoid', kernel_initializer=initializer)\n",
        "    ], name='efficientnet_v2_sequential_model')\n",
        "\n",
        "    return efficientnet_v2_sequential"
      ]
    },
    {
      "cell_type": "code",
      "execution_count": null,
      "metadata": {
        "execution": {
          "iopub.execute_input": "2023-10-18T16:41:37.763435Z",
          "iopub.status.busy": "2023-10-18T16:41:37.762926Z",
          "iopub.status.idle": "2023-10-18T16:41:38.388173Z",
          "shell.execute_reply": "2023-10-18T16:41:38.38724Z",
          "shell.execute_reply.started": "2023-10-18T16:41:37.763411Z"
        },
        "id": "w2FS2463xc0z",
        "trusted": true
      },
      "outputs": [],
      "source": [
        "# Generate Model\n",
        "model_efficientnet_v2 = efficientnet_v2_model()\n",
        "\n",
        "# Generate Summary of the Model\n",
        "model_efficientnet_v2.summary()"
      ]
    },
    {
      "cell_type": "code",
      "execution_count": null,
      "metadata": {
        "execution": {
          "iopub.execute_input": "2023-10-18T16:41:38.389541Z",
          "iopub.status.busy": "2023-10-18T16:41:38.389296Z",
          "iopub.status.idle": "2023-10-18T16:41:38.56843Z",
          "shell.execute_reply": "2023-10-18T16:41:38.56747Z",
          "shell.execute_reply.started": "2023-10-18T16:41:38.389518Z"
        },
        "id": "tfL5jGORxc0z",
        "trusted": true
      },
      "outputs": [],
      "source": [
        "# Explore model visually\n",
        "plot_model(\n",
        "    model_efficientnet_v2, dpi=60,\n",
        "    show_shapes=True\n",
        ")"
      ]
    },
    {
      "cell_type": "markdown",
      "metadata": {
        "id": "Z-obj_tkxc00"
      },
      "source": [
        "<a id=\"4.3\"></a>\n",
        "### <font color='#478bd6'>Train EfficientNet Model</font>"
      ]
    },
    {
      "cell_type": "code",
      "execution_count": null,
      "metadata": {
        "execution": {
          "iopub.execute_input": "2023-10-18T16:41:38.570306Z",
          "iopub.status.busy": "2023-10-18T16:41:38.570055Z",
          "iopub.status.idle": "2023-10-18T16:43:53.3901Z",
          "shell.execute_reply": "2023-10-18T16:43:53.389304Z",
          "shell.execute_reply.started": "2023-10-18T16:41:38.570279Z"
        },
        "id": "1AtYHODSxc00",
        "trusted": true
      },
      "outputs": [],
      "source": [
        "tf.random.set_seed(CFG.SEED)\n",
        "\n",
        "# Compile the model\n",
        "model_efficientnet_v2.compile(\n",
        "    loss=tf.keras.losses.BinaryCrossentropy(),\n",
        "    optimizer=tf.keras.optimizers.Adam(learning_rate=0.001),\n",
        "    metrics=METRICS\n",
        ")\n",
        "\n",
        "# Train the model\n",
        "print(f'Training {model_efficientnet_v2.name}.')\n",
        "print(f'Train on {len(train_new_df)} samples, validate on {len(val_df)} samples.')\n",
        "print('----------------------------------')\n",
        "\n",
        "efficientnet_v2_history = train_model(\n",
        "    model_efficientnet_v2, CFG.EPOCHS, CALLBACKS,\n",
        "    train_ds, val_ds,\n",
        "    shuffling=False\n",
        ")"
      ]
    },
    {
      "cell_type": "code",
      "execution_count": null,
      "metadata": {
        "execution": {
          "iopub.execute_input": "2023-10-18T16:43:53.393027Z",
          "iopub.status.busy": "2023-10-18T16:43:53.392729Z",
          "iopub.status.idle": "2023-10-18T16:43:55.006266Z",
          "shell.execute_reply": "2023-10-18T16:43:55.005538Z",
          "shell.execute_reply.started": "2023-10-18T16:43:53.392999Z"
        },
        "id": "WQ5JeGyvxc00",
        "trusted": true
      },
      "outputs": [],
      "source": [
        "# Evaluate the model\n",
        "efficientnet_v2_evaluation = model_efficientnet_v2.evaluate(test_ds)"
      ]
    },
    {
      "cell_type": "code",
      "execution_count": null,
      "metadata": {
        "execution": {
          "iopub.execute_input": "2023-10-18T16:43:55.007838Z",
          "iopub.status.busy": "2023-10-18T16:43:55.007509Z",
          "iopub.status.idle": "2023-10-18T16:43:58.289192Z",
          "shell.execute_reply": "2023-10-18T16:43:58.288446Z",
          "shell.execute_reply.started": "2023-10-18T16:43:55.007813Z"
        },
        "id": "fNEDc9X8xc01",
        "trusted": true
      },
      "outputs": [],
      "source": [
        "# Generate model probabilities and associated predictions\n",
        "efficientnet_v2_test_probabilities = model_efficientnet_v2.predict(test_ds, verbose=1)\n",
        "efficientnet_v2_test_predictions = tf.argmax(efficientnet_v2_test_probabilities, axis=1)"
      ]
    },
    {
      "cell_type": "code",
      "execution_count": null,
      "metadata": {
        "execution": {
          "iopub.execute_input": "2023-10-18T16:43:58.290342Z",
          "iopub.status.busy": "2023-10-18T16:43:58.290108Z",
          "iopub.status.idle": "2023-10-18T16:44:09.008502Z",
          "shell.execute_reply": "2023-10-18T16:44:09.007533Z",
          "shell.execute_reply.started": "2023-10-18T16:43:58.29032Z"
        },
        "id": "HG0rab1Vxc05",
        "trusted": true
      },
      "outputs": [],
      "source": [
        "!pip install -q vit-keras"
      ]
    },
    {
      "cell_type": "markdown",
      "metadata": {
        "id": "NdNct2sBxc05"
      },
      "source": [
        "<a id='5.1'></a>\n",
        "### <font color='#478bd6'>Get Vision Transformer Model</font>"
      ]
    },
    {
      "cell_type": "code",
      "execution_count": null,
      "metadata": {
        "execution": {
          "iopub.execute_input": "2023-10-18T16:44:09.010159Z",
          "iopub.status.busy": "2023-10-18T16:44:09.009883Z",
          "iopub.status.idle": "2023-10-18T16:44:20.810623Z",
          "shell.execute_reply": "2023-10-18T16:44:20.809878Z",
          "shell.execute_reply.started": "2023-10-18T16:44:09.010131Z"
        },
        "id": "LkrwwYMkxc06",
        "trusted": true
      },
      "outputs": [],
      "source": [
        "from vit_keras import vit\n",
        "\n",
        "# Download the model\n",
        "vit_model = vit.vit_b16(\n",
        "    image_size=224,\n",
        "    activation='sigmoid',\n",
        "    pretrained=True,\n",
        "    include_top=False,\n",
        "    pretrained_top=False,\n",
        "    classes=2\n",
        ")\n",
        "\n",
        "# Freeze model layers for inference-mode only\n",
        "for layer in vit_model.layers:\n",
        "    layer.trainable = False"
      ]
    },
    {
      "cell_type": "markdown",
      "metadata": {
        "id": "2SiHiEXmxc06"
      },
      "source": [
        "<a id='5.2'></a>\n",
        "### <font color='#478bd6'>Define Vision Transformer Model</font>"
      ]
    },
    {
      "cell_type": "code",
      "execution_count": null,
      "metadata": {
        "execution": {
          "iopub.execute_input": "2023-10-18T16:44:20.811747Z",
          "iopub.status.busy": "2023-10-18T16:44:20.811532Z",
          "iopub.status.idle": "2023-10-18T16:44:20.818341Z",
          "shell.execute_reply": "2023-10-18T16:44:20.817474Z",
          "shell.execute_reply.started": "2023-10-18T16:44:20.811726Z"
        },
        "id": "kO0hrYXFxc06",
        "trusted": true
      },
      "outputs": [],
      "source": [
        "def vit_b16_model():\n",
        "\n",
        "    initializer = tf.keras.initializers.GlorotNormal()\n",
        "\n",
        "    vit_b16_sequential = Sequential([\n",
        "        layers.Input(shape=CFG.IMAGE_SIZE, dtype=tf.float32, name='input_image'),\n",
        "        vit_model,\n",
        "        layers.Dropout(0.2),\n",
        "        layers.Dense(128, activation='relu', kernel_initializer=initializer),\n",
        "        layers.Dense(2, dtype=tf.float32, activation='sigmoid', kernel_initializer=initializer)\n",
        "    ], name='vit_b16_sequential_model')\n",
        "\n",
        "    return vit_b16_sequential"
      ]
    },
    {
      "cell_type": "code",
      "execution_count": null,
      "metadata": {
        "execution": {
          "iopub.execute_input": "2023-10-18T16:44:20.820312Z",
          "iopub.status.busy": "2023-10-18T16:44:20.819607Z",
          "iopub.status.idle": "2023-10-18T16:44:22.920908Z",
          "shell.execute_reply": "2023-10-18T16:44:22.920151Z",
          "shell.execute_reply.started": "2023-10-18T16:44:20.820288Z"
        },
        "id": "oOt3WoPwxc06",
        "trusted": true
      },
      "outputs": [],
      "source": [
        "# Generate Model\n",
        "model_vit_b16 = vit_b16_model()\n",
        "\n",
        "# Generate Summary of the Model\n",
        "model_vit_b16.summary()"
      ]
    },
    {
      "cell_type": "code",
      "execution_count": null,
      "metadata": {
        "execution": {
          "iopub.execute_input": "2023-10-18T16:44:22.922132Z",
          "iopub.status.busy": "2023-10-18T16:44:22.921884Z",
          "iopub.status.idle": "2023-10-18T16:44:23.114225Z",
          "shell.execute_reply": "2023-10-18T16:44:23.113319Z",
          "shell.execute_reply.started": "2023-10-18T16:44:22.92211Z"
        },
        "id": "9ZoMT6j4xc07",
        "trusted": true
      },
      "outputs": [],
      "source": [
        "# Explore model visually\n",
        "plot_model(\n",
        "    model_vit_b16, dpi=60,\n",
        "    show_shapes=True\n",
        ")"
      ]
    },
    {
      "cell_type": "markdown",
      "metadata": {
        "id": "zuy_t_oYxc07"
      },
      "source": [
        "<a id='5.3'></a>\n",
        "### <font color='#478bd6'>Train Vision Transformer Model</font>"
      ]
    },
    {
      "cell_type": "code",
      "execution_count": null,
      "metadata": {
        "execution": {
          "iopub.execute_input": "2023-10-18T16:44:23.115786Z",
          "iopub.status.busy": "2023-10-18T16:44:23.115539Z",
          "iopub.status.idle": "2023-10-18T16:50:31.474059Z",
          "shell.execute_reply": "2023-10-18T16:50:31.473265Z",
          "shell.execute_reply.started": "2023-10-18T16:44:23.115759Z"
        },
        "id": "uF26Htawxc07",
        "trusted": true
      },
      "outputs": [],
      "source": [
        "tf.random.set_seed(CFG.SEED)\n",
        "\n",
        "# Compile the model\n",
        "model_vit_b16.compile(\n",
        "    loss=tf.keras.losses.BinaryCrossentropy(),\n",
        "    optimizer=tf.keras.optimizers.Adam(learning_rate=0.001),\n",
        "    metrics=METRICS\n",
        ")\n",
        "\n",
        "# Train the model\n",
        "print(f'Training {model_vit_b16.name}.')\n",
        "print(f'Train on {len(train_new_df)} samples, validate on {len(val_df)} samples.')\n",
        "print('----------------------------------')\n",
        "\n",
        "vit_b16_history = train_model(\n",
        "    model_vit_b16, CFG.EPOCHS, CALLBACKS,\n",
        "    train_ds, val_ds,\n",
        "    shuffling=False\n",
        ")"
      ]
    },
    {
      "cell_type": "code",
      "execution_count": null,
      "metadata": {
        "execution": {
          "iopub.execute_input": "2023-10-18T16:50:31.478949Z",
          "iopub.status.busy": "2023-10-18T16:50:31.478702Z",
          "iopub.status.idle": "2023-10-18T16:50:36.848783Z",
          "shell.execute_reply": "2023-10-18T16:50:36.848057Z",
          "shell.execute_reply.started": "2023-10-18T16:50:31.478926Z"
        },
        "id": "8evfO2A5xc08",
        "trusted": true
      },
      "outputs": [],
      "source": [
        "# Evaluate the model\n",
        "vit_b16_evaluation = model_vit_b16.evaluate(test_ds)"
      ]
    },
    {
      "cell_type": "code",
      "execution_count": null,
      "metadata": {
        "execution": {
          "iopub.execute_input": "2023-10-18T16:50:36.850419Z",
          "iopub.status.busy": "2023-10-18T16:50:36.850183Z",
          "iopub.status.idle": "2023-10-18T16:50:44.250795Z",
          "shell.execute_reply": "2023-10-18T16:50:44.250058Z",
          "shell.execute_reply.started": "2023-10-18T16:50:36.850398Z"
        },
        "id": "as23G0dXxc08",
        "trusted": true
      },
      "outputs": [],
      "source": [
        "# Generate model probabilities and associated predictions\n",
        "vit_b16_test_probabilities = model_vit_b16.predict(test_ds, verbose=1)\n",
        "vit_b16_test_predictions = tf.argmax(vit_b16_test_probabilities, axis=1)"
      ]
    },
    {
      "cell_type": "markdown",
      "metadata": {
        "id": "gey3jVWBxc09"
      },
      "source": [
        "<a id='6.1'></a>\n",
        "### <font color='#478bd6'>Plot Model Histories</font>"
      ]
    },
    {
      "cell_type": "code",
      "execution_count": null,
      "metadata": {
        "execution": {
          "iopub.execute_input": "2023-10-18T16:50:44.251901Z",
          "iopub.status.busy": "2023-10-18T16:50:44.251676Z",
          "iopub.status.idle": "2023-10-18T16:50:44.261845Z",
          "shell.execute_reply": "2023-10-18T16:50:44.260535Z",
          "shell.execute_reply.started": "2023-10-18T16:50:44.25188Z"
        },
        "id": "fRCaetBtxc09",
        "trusted": true
      },
      "outputs": [],
      "source": [
        "def plot_training_curves(history):\n",
        "\n",
        "    loss = np.array(history.history['loss'])\n",
        "    val_loss = np.array(history.history['val_loss'])\n",
        "\n",
        "    accuracy = np.array(history.history['accuracy'])\n",
        "    val_accuracy = np.array(history.history['val_accuracy'])\n",
        "\n",
        "    epochs = range(len(history.history['loss']))\n",
        "\n",
        "    fig, (ax1, ax2) = plt.subplots(1, 2, figsize=(20, 10))\n",
        "\n",
        "    # Plot loss\n",
        "    ax1.plot(epochs, loss, label='training_loss', marker='o')\n",
        "    ax1.plot(epochs, val_loss, label='val_loss', marker='o')\n",
        "\n",
        "    ax1.fill_between(epochs, loss, val_loss, where=(loss > val_loss), color='C0', alpha=0.3, interpolate=True)\n",
        "    ax1.fill_between(epochs, loss, val_loss, where=(loss < val_loss), color='C1', alpha=0.3, interpolate=True)\n",
        "\n",
        "    ax1.set_title('Loss (Lower Means Better)', fontsize=16)\n",
        "    ax1.set_xlabel('Epochs', fontsize=12)\n",
        "    ax1.legend()\n",
        "\n",
        "    # Plot accuracy\n",
        "    ax2.plot(epochs, accuracy, label='training_accuracy', marker='o')\n",
        "    ax2.plot(epochs, val_accuracy, label='val_accuracy', marker='o')\n",
        "\n",
        "    ax2.fill_between(epochs, accuracy, val_accuracy, where=(accuracy > val_accuracy), color='C0', alpha=0.3, interpolate=True)\n",
        "    ax2.fill_between(epochs, accuracy, val_accuracy, where=(accuracy < val_accuracy), color='C1', alpha=0.3, interpolate=True)\n",
        "\n",
        "    ax2.set_title('Accuracy (Higher Means Better)', fontsize=16)\n",
        "    ax2.set_xlabel('Epochs', fontsize=12)\n",
        "    ax2.legend();"
      ]
    },
    {
      "cell_type": "code",
      "execution_count": null,
      "metadata": {
        "execution": {
          "iopub.execute_input": "2023-10-18T16:50:44.2634Z",
          "iopub.status.busy": "2023-10-18T16:50:44.262924Z",
          "iopub.status.idle": "2023-10-18T16:50:44.530983Z",
          "shell.execute_reply": "2023-10-18T16:50:44.530352Z",
          "shell.execute_reply.started": "2023-10-18T16:50:44.263376Z"
        },
        "id": "GSZDUbIXxc09",
        "trusted": true
      },
      "outputs": [],
      "source": [
        "# plot cnn model training history\n",
        "plot_training_curves(cnn_history)"
      ]
    },
    {
      "cell_type": "markdown",
      "metadata": {
        "id": "sqgyh_Wlxc09"
      },
      "source": [
        "<div class=\"alert alert-block alert-info\">\n",
        "    <h3>Observe</h3>\n",
        "    We observe a stable convergence to a lower loss. No sign of overfitting.\n",
        "</div>"
      ]
    },
    {
      "cell_type": "code",
      "execution_count": null,
      "metadata": {
        "execution": {
          "iopub.execute_input": "2023-10-18T16:50:44.532712Z",
          "iopub.status.busy": "2023-10-18T16:50:44.53189Z",
          "iopub.status.idle": "2023-10-18T16:50:44.788893Z",
          "shell.execute_reply": "2023-10-18T16:50:44.78813Z",
          "shell.execute_reply.started": "2023-10-18T16:50:44.532682Z"
        },
        "id": "x70Gd93Cxc0-",
        "trusted": true
      },
      "outputs": [],
      "source": [
        "# Plot EfficientNet V2 B0 model training history\n",
        "plot_training_curves(efficientnet_v2_history)"
      ]
    },
    {
      "cell_type": "code",
      "execution_count": null,
      "metadata": {
        "execution": {
          "iopub.execute_input": "2023-10-18T16:50:44.79023Z",
          "iopub.status.busy": "2023-10-18T16:50:44.789999Z",
          "iopub.status.idle": "2023-10-18T16:50:45.049895Z",
          "shell.execute_reply": "2023-10-18T16:50:45.049177Z",
          "shell.execute_reply.started": "2023-10-18T16:50:44.790208Z"
        },
        "id": "G0rU8aNjxc0_",
        "trusted": true
      },
      "outputs": [],
      "source": [
        "# Plot VIT B16 model training history\n",
        "plot_training_curves(vit_b16_history)"
      ]
    },
    {
      "cell_type": "markdown",
      "metadata": {
        "id": "KneDroCgxc1A"
      },
      "source": [
        "<a id='6.2'></a>\n",
        "### <font color='#478bd6'>Plot Confusion Matrix</font>"
      ]
    },
    {
      "cell_type": "code",
      "execution_count": null,
      "metadata": {
        "execution": {
          "iopub.execute_input": "2023-10-18T16:50:45.051294Z",
          "iopub.status.busy": "2023-10-18T16:50:45.050952Z",
          "iopub.status.idle": "2023-10-18T16:50:45.057733Z",
          "shell.execute_reply": "2023-10-18T16:50:45.057161Z",
          "shell.execute_reply.started": "2023-10-18T16:50:45.05127Z"
        },
        "id": "JPDMJISrxc1A",
        "trusted": true
      },
      "outputs": [],
      "source": [
        "def plot_confusion_matrix(y_true, y_pred, classes='auto', figsize=(10, 10), text_size=12):\n",
        "    # Generate confusion matrix\n",
        "    cm = confusion_matrix(y_true, y_pred)\n",
        "\n",
        "    # Set plot size\n",
        "    plt.figure(figsize=figsize)\n",
        "\n",
        "    # Create confusion matrix heatmap\n",
        "    disp = sns.heatmap(\n",
        "        cm, annot=True, cmap='Greens',\n",
        "        annot_kws={\"size\": text_size}, fmt='g',\n",
        "        linewidths=1, linecolor='black', clip_on=False,\n",
        "        xticklabels=classes, yticklabels=classes)\n",
        "\n",
        "    # Set title and axis labels\n",
        "    disp.set_title('Confusion Matrix', fontsize=24)\n",
        "    disp.set_xlabel('Predicted Label', fontsize=20)\n",
        "    disp.set_ylabel('True Label', fontsize=20)\n",
        "    plt.yticks(rotation=0)\n",
        "\n",
        "    # Plot confusion matrix\n",
        "    plt.show()\n",
        "\n",
        "    return"
      ]
    },
    {
      "cell_type": "markdown",
      "metadata": {
        "id": "UUHRfKYGxc1B"
      },
      "source": [
        "### <font color='#478bd6'>CNN Confusion Matrix</font>"
      ]
    },
    {
      "cell_type": "code",
      "execution_count": null,
      "metadata": {
        "execution": {
          "iopub.execute_input": "2023-10-18T16:50:45.059194Z",
          "iopub.status.busy": "2023-10-18T16:50:45.058718Z",
          "iopub.status.idle": "2023-10-18T16:50:45.214782Z",
          "shell.execute_reply": "2023-10-18T16:50:45.214057Z",
          "shell.execute_reply.started": "2023-10-18T16:50:45.05917Z"
        },
        "id": "cnKLNpEFxc1B",
        "trusted": true
      },
      "outputs": [],
      "source": [
        "class_names = ['malignant', 'benign']\n",
        "\n",
        "plot_confusion_matrix(\n",
        "    test_df.label_encoded,\n",
        "    cnn_test_predictions,\n",
        "    figsize=(8, 8),\n",
        "    classes=class_names)"
      ]
    },
    {
      "cell_type": "markdown",
      "metadata": {
        "id": "Ei6Ggw0axc1C"
      },
      "source": [
        "### <font color='#478bd6'>EfficientNet V2 B0 Confusion Matrix</font>"
      ]
    },
    {
      "cell_type": "code",
      "execution_count": null,
      "metadata": {
        "execution": {
          "iopub.execute_input": "2023-10-18T16:50:45.215996Z",
          "iopub.status.busy": "2023-10-18T16:50:45.215601Z",
          "iopub.status.idle": "2023-10-18T16:50:45.358629Z",
          "shell.execute_reply": "2023-10-18T16:50:45.357944Z",
          "shell.execute_reply.started": "2023-10-18T16:50:45.215965Z"
        },
        "id": "sOlxKoanxc1C",
        "trusted": true
      },
      "outputs": [],
      "source": [
        "plot_confusion_matrix(\n",
        "    test_df.label_encoded,\n",
        "    efficientnet_v2_test_predictions,\n",
        "    figsize=(8, 8),\n",
        "    classes=class_names)"
      ]
    },
    {
      "cell_type": "markdown",
      "metadata": {
        "id": "sweFT6sZxc1C"
      },
      "source": [
        "### <font color='#478bd6'>ViT-b16 Confusion Matrix</font>"
      ]
    },
    {
      "cell_type": "code",
      "execution_count": null,
      "metadata": {
        "execution": {
          "iopub.execute_input": "2023-10-18T16:50:45.361813Z",
          "iopub.status.busy": "2023-10-18T16:50:45.36133Z",
          "iopub.status.idle": "2023-10-18T16:50:45.508785Z",
          "shell.execute_reply": "2023-10-18T16:50:45.508172Z",
          "shell.execute_reply.started": "2023-10-18T16:50:45.361786Z"
        },
        "id": "7zo-fttNxc1C",
        "trusted": true
      },
      "outputs": [],
      "source": [
        "plot_confusion_matrix(\n",
        "    test_df.label_encoded,\n",
        "    vit_b16_test_predictions,\n",
        "    figsize=(8, 8),\n",
        "    classes=class_names)"
      ]
    },
    {
      "cell_type": "markdown",
      "metadata": {
        "id": "2gVxE2i0xc1D"
      },
      "source": [
        "### <font color='#478bd6'>CNN ROC Curves</font>"
      ]
    },
    {
      "cell_type": "code",
      "execution_count": null,
      "metadata": {
        "execution": {
          "iopub.execute_input": "2023-10-18T16:50:45.51218Z",
          "iopub.status.busy": "2023-10-18T16:50:45.511525Z",
          "iopub.status.idle": "2023-10-18T16:50:45.667337Z",
          "shell.execute_reply": "2023-10-18T16:50:45.666736Z",
          "shell.execute_reply.started": "2023-10-18T16:50:45.512154Z"
        },
        "id": "-8wsbaL2xc1D",
        "trusted": true
      },
      "outputs": [],
      "source": [
        "plot_roc(test_df.label_encoded,\n",
        "         cnn_test_probabilities,\n",
        "         figsize=(10, 10), title_fontsize='large');"
      ]
    },
    {
      "cell_type": "markdown",
      "metadata": {
        "id": "vrNBczSdxc1E"
      },
      "source": [
        "### <font color='#478bd6'>EfficientNet V2 B0 ROC Curves</font>"
      ]
    },
    {
      "cell_type": "code",
      "execution_count": null,
      "metadata": {
        "execution": {
          "iopub.execute_input": "2023-10-18T16:50:45.670598Z",
          "iopub.status.busy": "2023-10-18T16:50:45.67001Z",
          "iopub.status.idle": "2023-10-18T16:50:45.840124Z",
          "shell.execute_reply": "2023-10-18T16:50:45.839411Z",
          "shell.execute_reply.started": "2023-10-18T16:50:45.670572Z"
        },
        "id": "SNWx_pl3xc1E",
        "trusted": true
      },
      "outputs": [],
      "source": [
        "plot_roc(test_df.label_encoded,\n",
        "         efficientnet_v2_test_probabilities,\n",
        "         figsize=(10, 10), title_fontsize='large');"
      ]
    },
    {
      "cell_type": "markdown",
      "metadata": {
        "id": "UEmMNABGxc1E"
      },
      "source": [
        "### <font color='#478bd6'>ViT-b16 ROC Curves</font>"
      ]
    },
    {
      "cell_type": "code",
      "execution_count": null,
      "metadata": {
        "execution": {
          "iopub.execute_input": "2023-10-18T16:50:45.841283Z",
          "iopub.status.busy": "2023-10-18T16:50:45.841059Z",
          "iopub.status.idle": "2023-10-18T16:50:46.011289Z",
          "shell.execute_reply": "2023-10-18T16:50:46.010659Z",
          "shell.execute_reply.started": "2023-10-18T16:50:45.841262Z"
        },
        "id": "W0bP_1Pjxc1E",
        "trusted": true
      },
      "outputs": [],
      "source": [
        "plot_roc(test_df.label_encoded,\n",
        "         vit_b16_test_probabilities,\n",
        "         figsize=(10, 10), title_fontsize='large');"
      ]
    },
    {
      "cell_type": "markdown",
      "metadata": {
        "id": "hLf11oKYxc1F"
      },
      "source": [
        "<a id='6.4'></a>\n",
        "### <font color='#478bd6'>View Classification Reports</font>"
      ]
    },
    {
      "cell_type": "code",
      "execution_count": null,
      "metadata": {
        "execution": {
          "iopub.execute_input": "2023-10-18T16:50:46.012686Z",
          "iopub.status.busy": "2023-10-18T16:50:46.012286Z",
          "iopub.status.idle": "2023-10-18T16:50:46.021645Z",
          "shell.execute_reply": "2023-10-18T16:50:46.020848Z",
          "shell.execute_reply.started": "2023-10-18T16:50:46.012659Z"
        },
        "id": "UBLnXBSyxc1F",
        "trusted": true
      },
      "outputs": [],
      "source": [
        "# CNN ROC Curves\n",
        "print(classification_report(test_df.label_encoded,\n",
        "                            cnn_test_predictions,\n",
        "                            target_names=class_names))"
      ]
    },
    {
      "cell_type": "code",
      "execution_count": null,
      "metadata": {
        "execution": {
          "iopub.execute_input": "2023-10-18T16:50:46.023334Z",
          "iopub.status.busy": "2023-10-18T16:50:46.022872Z",
          "iopub.status.idle": "2023-10-18T16:50:46.039058Z",
          "shell.execute_reply": "2023-10-18T16:50:46.038382Z",
          "shell.execute_reply.started": "2023-10-18T16:50:46.0233Z"
        },
        "id": "QNeBQGfTxc1F",
        "trusted": true
      },
      "outputs": [],
      "source": [
        "# EfficientNet V2 ROC Curves\n",
        "print(classification_report(test_df.label_encoded,\n",
        "                            efficientnet_v2_test_predictions,\n",
        "                            target_names=class_names))"
      ]
    },
    {
      "cell_type": "code",
      "execution_count": null,
      "metadata": {
        "execution": {
          "iopub.execute_input": "2023-10-18T16:50:46.043767Z",
          "iopub.status.busy": "2023-10-18T16:50:46.04198Z",
          "iopub.status.idle": "2023-10-18T16:50:46.054508Z",
          "shell.execute_reply": "2023-10-18T16:50:46.053826Z",
          "shell.execute_reply.started": "2023-10-18T16:50:46.043739Z"
        },
        "id": "_8e0tMV4xc1F",
        "trusted": true
      },
      "outputs": [],
      "source": [
        "# ViT-b16 ROC Curves\n",
        "print(classification_report(test_df.label_encoded,\n",
        "                            vit_b16_test_predictions,\n",
        "                            target_names=class_names))"
      ]
    },
    {
      "cell_type": "markdown",
      "metadata": {
        "id": "V4xmHGaGxc1J"
      },
      "source": [
        "<a id='6.5'></a>\n",
        "### <font color='#478bd6'>Record Classification Metrics</font>"
      ]
    },
    {
      "cell_type": "code",
      "execution_count": null,
      "metadata": {
        "execution": {
          "iopub.execute_input": "2023-10-18T16:51:56.322088Z",
          "iopub.status.busy": "2023-10-18T16:51:56.321695Z",
          "iopub.status.idle": "2023-10-18T16:51:56.327835Z",
          "shell.execute_reply": "2023-10-18T16:51:56.327208Z",
          "shell.execute_reply.started": "2023-10-18T16:51:56.322063Z"
        },
        "id": "nm1bAdSTxc1J",
        "trusted": true
      },
      "outputs": [],
      "source": [
        "def generate_preformance_scores(y_true, y_pred, y_probabilities):\n",
        "\n",
        "    model_accuracy = accuracy_score(y_true, y_pred)\n",
        "    model_precision, model_recall, model_f1, _ = (\n",
        "        precision_recall_fscore_support(\n",
        "            y_true,\n",
        "            y_pred,\n",
        "            average=\"weighted\"\n",
        "        )\n",
        "    )\n",
        "    model_matthews_corrcoef = matthews_corrcoef(y_true, y_pred)\n",
        "\n",
        "    print('=============================================')\n",
        "    print(f'\\nPerformance Metrics:\\n')\n",
        "    print('=============================================')\n",
        "    print(f'accuracy_score:\\t\\t{model_accuracy:.4f}\\n')\n",
        "    print('_____________________________________________')\n",
        "    print(f'precision_score:\\t{model_precision:.4f}\\n')\n",
        "    print('_____________________________________________')\n",
        "    print(f'recall_score:\\t\\t{model_recall:.4f}\\n')\n",
        "    print('_____________________________________________')\n",
        "    print(f'f1_score:\\t\\t{model_f1:.4f}\\n')\n",
        "    print('_____________________________________________')\n",
        "    print(f'matthews_corrcoef:\\t{model_matthews_corrcoef:.4f}\\n')\n",
        "    print('=============================================')\n",
        "\n",
        "    preformance_scores = {\n",
        "        'accuracy_score': model_accuracy,\n",
        "        'precision_score': model_precision,\n",
        "        'recall_score': model_recall,\n",
        "        'f1_score': model_f1,\n",
        "        'matthews_corrcoef': model_matthews_corrcoef\n",
        "    }\n",
        "    return preformance_scores\n"
      ]
    },
    {
      "cell_type": "code",
      "execution_count": null,
      "metadata": {
        "execution": {
          "iopub.execute_input": "2023-10-18T16:51:56.329074Z",
          "iopub.status.busy": "2023-10-18T16:51:56.328707Z",
          "iopub.status.idle": "2023-10-18T16:51:56.347918Z",
          "shell.execute_reply": "2023-10-18T16:51:56.347314Z",
          "shell.execute_reply.started": "2023-10-18T16:51:56.329052Z"
        },
        "id": "GA-1sSJJxc1J",
        "trusted": true
      },
      "outputs": [],
      "source": [
        "# Generate CNN model performance scores\n",
        "cnn_performance = generate_preformance_scores(test_df.label_encoded,\n",
        "                                              cnn_test_predictions,\n",
        "                                              cnn_test_probabilities)"
      ]
    },
    {
      "cell_type": "code",
      "execution_count": null,
      "metadata": {
        "execution": {
          "iopub.execute_input": "2023-10-18T16:50:46.088585Z",
          "iopub.status.busy": "2023-10-18T16:50:46.088239Z",
          "iopub.status.idle": "2023-10-18T16:50:46.098993Z",
          "shell.execute_reply": "2023-10-18T16:50:46.098187Z",
          "shell.execute_reply.started": "2023-10-18T16:50:46.088561Z"
        },
        "id": "3LdtRzpNxc1K",
        "trusted": true
      },
      "outputs": [],
      "source": [
        "# Generate EfficieNet model performance scores\n",
        "efficientnet_v2_performance = generate_preformance_scores(test_df.label_encoded,\n",
        "                                                          efficientnet_v2_test_predictions,\n",
        "                                                          efficientnet_v2_test_probabilities)"
      ]
    },
    {
      "cell_type": "code",
      "execution_count": null,
      "metadata": {
        "execution": {
          "iopub.execute_input": "2023-10-18T16:50:46.102094Z",
          "iopub.status.busy": "2023-10-18T16:50:46.101746Z",
          "iopub.status.idle": "2023-10-18T16:50:46.119008Z",
          "shell.execute_reply": "2023-10-18T16:50:46.118359Z",
          "shell.execute_reply.started": "2023-10-18T16:50:46.102067Z"
        },
        "id": "eVhoIc25xc1K",
        "trusted": true
      },
      "outputs": [],
      "source": [
        "# Generate ViT model performance scores\n",
        "vit_b16_performance = generate_preformance_scores(test_df.label_encoded,\n",
        "                                                  vit_b16_test_predictions,\n",
        "                                                  vit_b16_test_probabilities)"
      ]
    },
    {
      "cell_type": "code",
      "execution_count": null,
      "metadata": {
        "execution": {
          "iopub.execute_input": "2023-10-18T16:50:46.123661Z",
          "iopub.status.busy": "2023-10-18T16:50:46.122088Z",
          "iopub.status.idle": "2023-10-18T16:50:46.138082Z",
          "shell.execute_reply": "2023-10-18T16:50:46.13736Z",
          "shell.execute_reply.started": "2023-10-18T16:50:46.123634Z"
        },
        "id": "erFP3s3Kxc1K",
        "trusted": true
      },
      "outputs": [],
      "source": [
        "# Record metrics with DataFrame\n",
        "performance_df = pd.DataFrame({\n",
        "    'model_cnn': cnn_performance,\n",
        "    'model_efficientnet_v2': efficientnet_v2_performance,\n",
        "    'model_vit_b16': vit_b16_performance\n",
        "}).T\n",
        "\n",
        "# View Performance DataFrame\n",
        "performance_df"
      ]
    },
    {
      "cell_type": "code",
      "execution_count": null,
      "metadata": {
        "execution": {
          "iopub.execute_input": "2023-10-18T17:03:16.14656Z",
          "iopub.status.busy": "2023-10-18T17:03:16.145732Z",
          "iopub.status.idle": "2023-10-18T17:03:16.325737Z",
          "shell.execute_reply": "2023-10-18T17:03:16.325102Z",
          "shell.execute_reply.started": "2023-10-18T17:03:16.146524Z"
        },
        "id": "Cn49acklxc1L",
        "trusted": true
      },
      "outputs": [],
      "source": [
        "performance_df.plot(\n",
        "    kind=\"bar\",\n",
        "    figsize=(16, 8)\n",
        ").legend(bbox_to_anchor=(1.0, 1.0))\n",
        "\n",
        "plt.title('Performance Metrics', fontsize=20);\n",
        "sns.despine();"
      ]
    },
    {
      "cell_type": "code",
      "execution_count": null,
      "metadata": {
        "execution": {
          "iopub.execute_input": "2023-10-18T16:50:46.322542Z",
          "iopub.status.busy": "2023-10-18T16:50:46.321054Z",
          "iopub.status.idle": "2023-10-18T16:50:46.330246Z",
          "shell.execute_reply": "2023-10-18T16:50:46.329536Z",
          "shell.execute_reply.started": "2023-10-18T16:50:46.322509Z"
        },
        "id": "v7xNttS5xc1M",
        "trusted": true
      },
      "outputs": [],
      "source": [
        "def compute_inference_time(model, ds, sample_count, inference_runs=5):\n",
        "    total_inference_times = []\n",
        "    inference_rates = []\n",
        "\n",
        "    for _ in range(inference_runs):\n",
        "        start = time.perf_counter()\n",
        "        model.predict(ds)\n",
        "        end = time.perf_counter()\n",
        "\n",
        "        # Compute total inference time\n",
        "        total_inference_time = end - start\n",
        "\n",
        "        # Compute inference rate\n",
        "        inference_rate = total_inference_time / sample_count\n",
        "\n",
        "        total_inference_times.append(total_inference_time)\n",
        "        inference_rates.append(inference_rate)\n",
        "\n",
        "    # Calculate average total inference time with uncertainty\n",
        "    avg_inference_time = sum(total_inference_times) / len(total_inference_times)\n",
        "    avg_inference_time_uncertainty = (max(total_inference_times) - min(total_inference_times)) / 2\n",
        "\n",
        "    # Calculate average inference rate with uncertainty\n",
        "    avg_inference_rate = sum(inference_rates) / len(inference_rates)\n",
        "    avg_inference_rate_uncertainty = (max(inference_rates) - min(inference_rates)) / 2\n",
        "\n",
        "    print('====================================================')\n",
        "    print(f'Model:\\t\\t{model.name}\\n')\n",
        "    print(f'Inference Time:\\t{round(avg_inference_time, 6)}s \\xB1 {round(avg_inference_time_uncertainty, 6)}s')\n",
        "    print(f'Inference Rate:\\t{round(avg_inference_rate, 6)}s/sample \\xB1 {round(avg_inference_rate_uncertainty, 6)}s/sample')\n",
        "    print('====================================================')\n",
        "\n",
        "    return avg_inference_time, avg_inference_rate"
      ]
    },
    {
      "cell_type": "code",
      "execution_count": null,
      "metadata": {
        "execution": {
          "iopub.execute_input": "2023-10-18T16:50:46.331396Z",
          "iopub.status.busy": "2023-10-18T16:50:46.331161Z",
          "iopub.status.idle": "2023-10-18T16:50:52.834234Z",
          "shell.execute_reply": "2023-10-18T16:50:52.833511Z",
          "shell.execute_reply.started": "2023-10-18T16:50:46.331373Z"
        },
        "id": "_VMCzMkxxc1M",
        "trusted": true
      },
      "outputs": [],
      "source": [
        "cnn_inference = compute_inference_time(model_cnn, test_ds, len(test_df))"
      ]
    },
    {
      "cell_type": "code",
      "execution_count": null,
      "metadata": {
        "execution": {
          "iopub.execute_input": "2023-10-18T16:50:52.836576Z",
          "iopub.status.busy": "2023-10-18T16:50:52.836315Z",
          "iopub.status.idle": "2023-10-18T16:51:05.11799Z",
          "shell.execute_reply": "2023-10-18T16:51:05.117147Z",
          "shell.execute_reply.started": "2023-10-18T16:50:52.836551Z"
        },
        "id": "rh6Dal6bxc1M",
        "trusted": true
      },
      "outputs": [],
      "source": [
        "efficientnet_v2_inference = compute_inference_time(model_efficientnet_v2, test_ds, len(test_df))"
      ]
    },
    {
      "cell_type": "code",
      "execution_count": null,
      "metadata": {
        "execution": {
          "iopub.execute_input": "2023-10-18T16:51:05.119628Z",
          "iopub.status.busy": "2023-10-18T16:51:05.119374Z",
          "iopub.status.idle": "2023-10-18T16:51:51.339937Z",
          "shell.execute_reply": "2023-10-18T16:51:51.339277Z",
          "shell.execute_reply.started": "2023-10-18T16:51:05.119602Z"
        },
        "id": "z4nNzAqbxc1N",
        "trusted": true
      },
      "outputs": [],
      "source": [
        "vit_b16_inference = compute_inference_time(model_vit_b16, test_ds, len(test_df))"
      ]
    },
    {
      "cell_type": "code",
      "execution_count": null,
      "metadata": {
        "execution": {
          "iopub.execute_input": "2023-10-18T17:07:16.351883Z",
          "iopub.status.busy": "2023-10-18T17:07:16.350898Z",
          "iopub.status.idle": "2023-10-18T17:07:16.565Z",
          "shell.execute_reply": "2023-10-18T17:07:16.564295Z",
          "shell.execute_reply.started": "2023-10-18T17:07:16.351851Z"
        },
        "id": "4b_PRbi9xc1N",
        "trusted": true
      },
      "outputs": [],
      "source": [
        "# Get MCC for each model\n",
        "cnn_mcc = cnn_performance[\"matthews_corrcoef\"]\n",
        "efficientnet_mcc = efficientnet_v2_performance[\"matthews_corrcoef\"]\n",
        "vit_mcc = vit_b16_performance[\"matthews_corrcoef\"]\n",
        "\n",
        "# Scatter plot inference rate against MCC\n",
        "plt.figure(figsize=(16, 8))\n",
        "\n",
        "plt.scatter(cnn_inference[1], cnn_mcc, label=model_cnn.name)\n",
        "plt.scatter(efficientnet_v2_inference[1], efficientnet_mcc, label=model_efficientnet_v2.name)\n",
        "plt.scatter(vit_b16_inference[1], vit_mcc, label=model_vit_b16.name)\n",
        "\n",
        "ideal_inference_rate = 0.0001 # Desired inference time (Exaggerated)\n",
        "ideal_mcc = 1 # Max MCC\n",
        "\n",
        "# Plot lines connecting each model coords. to the ideal model coords.\n",
        "plt.scatter(ideal_inference_rate, ideal_mcc, label=\"Ideal Hypothetical Model\", marker='s')\n",
        "plt.plot([ideal_inference_rate, cnn_inference[1]], [ideal_mcc, cnn_mcc], ':')\n",
        "plt.plot([ideal_inference_rate, efficientnet_v2_inference[1]], [ideal_mcc, efficientnet_mcc], ':')\n",
        "plt.plot([ideal_inference_rate, vit_b16_inference[1]], [ideal_mcc, vit_mcc], ':')\n",
        "\n",
        "plt.legend()\n",
        "plt.title(\"Trade-Offs: Inference Rate vs. Matthews Correlation Coefficient\", fontsize=20)\n",
        "plt.xlabel(\"Inference Rate (s/sample)\", fontsize=16)\n",
        "plt.ylabel(\"Matthews Correlation Coefficient\", fontsize=16);\n",
        "\n",
        "sns.despine();"
      ]
    },
    {
      "cell_type": "code",
      "execution_count": null,
      "metadata": {
        "execution": {
          "iopub.execute_input": "2023-10-18T16:51:51.558227Z",
          "iopub.status.busy": "2023-10-18T16:51:51.558015Z",
          "iopub.status.idle": "2023-10-18T16:51:51.566145Z",
          "shell.execute_reply": "2023-10-18T16:51:51.565541Z",
          "shell.execute_reply.started": "2023-10-18T16:51:51.558206Z"
        },
        "id": "Fb7DmWxcxc1N",
        "trusted": true
      },
      "outputs": [],
      "source": [
        "def dist(x1, x2, y1, y2):\n",
        "    return np.sqrt(np.square(x2 - x1) + np.square(y2 - y1))\n",
        "\n",
        "model_names = [model_cnn.name, model_efficientnet_v2.name, model_vit_b16.name]\n",
        "model_scores = [cnn_mcc, efficientnet_mcc, vit_mcc]\n",
        "model_rates = [cnn_inference[1], efficientnet_v2_inference[1], vit_b16_inference[1]]\n",
        "trade_offs = [dist(ideal_inference_rate, inference_rate, ideal_mcc, score)\n",
        "              for inference_rate, score in zip(model_rates, model_scores)]\n",
        "\n",
        "print('Trade-Off Score: Inference Rate vs. MCC')\n",
        "for name, inference_rate, score, trade in zip(model_names, model_rates, model_scores, trade_offs):\n",
        "    print('---------------------------------------------------------')\n",
        "    print(f'Model: {name}\\n\\nInference Rate: {inference_rate:.5f} | MCC: {score:.4f} | Trade-Off: {trade:.4f}')\n",
        "\n",
        "# View model with best trade-off score\n",
        "print('=========================================================')\n",
        "best_model_trade = min(trade_offs)\n",
        "best_model_name = model_names[np.argmin(trade_offs)]\n",
        "print(f'\\nBest Optimal Model:\\t{best_model_name}\\nTrade-Off:\\t\\t{best_model_trade:.4f}\\n')\n",
        "print('=========================================================')"
      ]
    },
    {
      "cell_type": "markdown",
      "metadata": {
        "id": "0dbKlpalxc1O"
      },
      "source": [
        "<a id='6.7'></a>\n",
        "### <font color='#478bd6'>View Test Predictions</font>"
      ]
    },
    {
      "cell_type": "code",
      "execution_count": null,
      "metadata": {
        "execution": {
          "iopub.execute_input": "2023-10-18T16:51:51.567667Z",
          "iopub.status.busy": "2023-10-18T16:51:51.566992Z",
          "iopub.status.idle": "2023-10-18T16:51:51.587657Z",
          "shell.execute_reply": "2023-10-18T16:51:51.586854Z",
          "shell.execute_reply.started": "2023-10-18T16:51:51.567642Z"
        },
        "id": "yr9ry2sJxc1O",
        "trusted": true
      },
      "outputs": [],
      "source": [
        "test_df"
      ]
    },
    {
      "cell_type": "code",
      "execution_count": null,
      "metadata": {
        "execution": {
          "iopub.execute_input": "2023-10-18T17:23:40.325739Z",
          "iopub.status.busy": "2023-10-18T17:23:40.325252Z",
          "iopub.status.idle": "2023-10-18T17:23:40.33467Z",
          "shell.execute_reply": "2023-10-18T17:23:40.333807Z",
          "shell.execute_reply.started": "2023-10-18T17:23:40.325704Z"
        },
        "id": "ZC8YH0dNxc1P",
        "trusted": true
      },
      "outputs": [],
      "source": [
        "def view_multiple_predictions(df, model, sample_loader, count=10, color_map='rgb', title=None, fig_size=(14, 10)):\n",
        "    rows = count//5\n",
        "    if count%5 > 0:\n",
        "        rows +=1\n",
        "\n",
        "    idx = random.sample(df.index.to_list(), count)\n",
        "\n",
        "    fig = plt.figure(figsize=fig_size)\n",
        "    if title != None:\n",
        "        fig.suptitle(title, fontsize=30)\n",
        "\n",
        "    fig.tight_layout()\n",
        "    fig.subplots_adjust(top=0.95)\n",
        "\n",
        "    # Setup useful dictionaries\n",
        "    label_set = {0: 'malignant', 1: 'benign'}\n",
        "    color_set = {False: 'red', True: 'darkgreen'}\n",
        "\n",
        "    for column, _ in enumerate(idx):\n",
        "        # Predict label\n",
        "        img = sample_loader(df.image_path[_])\n",
        "        probability = np.squeeze(\n",
        "            model.predict(np.array([img]), verbose=0)\n",
        "        )\n",
        "        prediction = np.argmax(probability)\n",
        "\n",
        "        # Validate prediction correctness\n",
        "        correct_prediction = (prediction == df.label_encoded[_])\n",
        "\n",
        "        # Create subplot and assign title\n",
        "        ax = plt.subplot(rows, 5, column+1)\n",
        "        ax.set_title(\n",
        "            f'Actual Label: {df.label[_]}',\n",
        "            pad=20,\n",
        "            fontsize=14,\n",
        "            color=color_set[correct_prediction]\n",
        "        )\n",
        "\n",
        "        # Plot image\n",
        "        if color_map=='rgb':\n",
        "            ax.imshow(img)\n",
        "        else:\n",
        "            ax.imshow(tf.image.rgb_to_grayscale(img), cmap=color_map)\n",
        "\n",
        "        # Plot prediction  & probability\n",
        "        txt = f'Prediction: {label_set[prediction]}\\nProbability: {(100 * probability[prediction]):.2f}%'\n",
        "        plt.xlabel(txt, fontsize=14, color=color_set[correct_prediction])\n",
        "\n",
        "    return"
      ]
    },
    {
      "cell_type": "code",
      "execution_count": null,
      "metadata": {
        "execution": {
          "iopub.execute_input": "2023-10-18T17:23:42.894654Z",
          "iopub.status.busy": "2023-10-18T17:23:42.893997Z",
          "iopub.status.idle": "2023-10-18T17:23:46.770784Z",
          "shell.execute_reply": "2023-10-18T17:23:46.770127Z",
          "shell.execute_reply.started": "2023-10-18T17:23:42.894621Z"
        },
        "id": "vbe-a1ZCxc1P",
        "trusted": true
      },
      "outputs": [],
      "source": [
        "view_multiple_predictions(\n",
        "    test_df,\n",
        "    model_cnn,\n",
        "    _load,\n",
        "    count=25,\n",
        "    color_map='inferno',\n",
        "    title='CNN Test Predictions',\n",
        "    fig_size=(20, 28)\n",
        ")"
      ]
    },
    {
      "cell_type": "code",
      "execution_count": null,
      "metadata": {
        "execution": {
          "iopub.execute_input": "2023-10-18T17:24:37.016321Z",
          "iopub.status.busy": "2023-10-18T17:24:37.015677Z",
          "iopub.status.idle": "2023-10-18T17:24:41.608784Z",
          "shell.execute_reply": "2023-10-18T17:24:41.608128Z",
          "shell.execute_reply.started": "2023-10-18T17:24:37.016288Z"
        },
        "id": "bplTq1WOxc1P",
        "trusted": true
      },
      "outputs": [],
      "source": [
        "view_multiple_predictions(\n",
        "    test_df,\n",
        "    model_efficientnet_v2,\n",
        "    _load,\n",
        "    count=25,\n",
        "    color_map='inferno',\n",
        "    title='EfficientNet V2 Test Predictions',\n",
        "    fig_size=(20, 28)\n",
        ")"
      ]
    },
    {
      "cell_type": "code",
      "execution_count": null,
      "metadata": {
        "execution": {
          "iopub.execute_input": "2023-10-18T17:25:55.654384Z",
          "iopub.status.busy": "2023-10-18T17:25:55.653683Z",
          "iopub.status.idle": "2023-10-18T17:26:00.304654Z",
          "shell.execute_reply": "2023-10-18T17:26:00.303993Z",
          "shell.execute_reply.started": "2023-10-18T17:25:55.654352Z"
        },
        "id": "v86A41l0xc1Q",
        "trusted": true
      },
      "outputs": [],
      "source": [
        "view_multiple_predictions(\n",
        "    test_df,\n",
        "    model_vit_b16,\n",
        "    _load,\n",
        "    count=25,\n",
        "    color_map='inferno',\n",
        "    title='ViT Test Predictions',\n",
        "    fig_size=(20, 28)\n",
        ")"
      ]
    }
  ],
  "metadata": {
    "colab": {
      "provenance": []
    },
    "kaggle": {
      "accelerator": "gpu",
      "dataSources": [
        {
          "datasetId": 174469,
          "sourceId": 505351,
          "sourceType": "datasetVersion"
        }
      ],
      "dockerImageVersionId": 30370,
      "isGpuEnabled": true,
      "isInternetEnabled": true,
      "language": "python",
      "sourceType": "notebook"
    },
    "kernelspec": {
      "display_name": "Python 3",
      "language": "python",
      "name": "python3"
    },
    "language_info": {
      "codemirror_mode": {
        "name": "ipython",
        "version": 3
      },
      "file_extension": ".py",
      "mimetype": "text/x-python",
      "name": "python",
      "nbconvert_exporter": "python",
      "pygments_lexer": "ipython3",
      "version": "3.6.4"
    }
  },
  "nbformat": 4,
  "nbformat_minor": 0
}
